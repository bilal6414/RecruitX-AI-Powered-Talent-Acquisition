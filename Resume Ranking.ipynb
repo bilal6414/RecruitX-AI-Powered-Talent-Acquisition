{
 "cells": [
  {
   "cell_type": "code",
   "execution_count": 1,
   "id": "6d6c74ef-8e2b-4e36-9aeb-17491d3302fb",
   "metadata": {},
   "outputs": [
    {
     "name": "stdout",
     "output_type": "stream",
     "text": [
      "Requirement already satisfied: flask in c:\\users\\hp\\anaconda3\\lib\\site-packages (3.0.3)\n",
      "Requirement already satisfied: pandas in c:\\users\\hp\\anaconda3\\lib\\site-packages (2.2.2)\n",
      "Requirement already satisfied: scikit-learn in c:\\users\\hp\\anaconda3\\lib\\site-packages (1.4.2)\n",
      "Requirement already satisfied: nltk in c:\\users\\hp\\anaconda3\\lib\\site-packages (3.8.1)\n",
      "Requirement already satisfied: Werkzeug>=3.0.0 in c:\\users\\hp\\anaconda3\\lib\\site-packages (from flask) (3.0.3)\n",
      "Requirement already satisfied: Jinja2>=3.1.2 in c:\\users\\hp\\anaconda3\\lib\\site-packages (from flask) (3.1.4)\n",
      "Requirement already satisfied: itsdangerous>=2.1.2 in c:\\users\\hp\\anaconda3\\lib\\site-packages (from flask) (2.2.0)\n",
      "Requirement already satisfied: click>=8.1.3 in c:\\users\\hp\\anaconda3\\lib\\site-packages (from flask) (8.1.7)\n",
      "Requirement already satisfied: blinker>=1.6.2 in c:\\users\\hp\\anaconda3\\lib\\site-packages (from flask) (1.6.2)\n",
      "Requirement already satisfied: numpy>=1.26.0 in c:\\users\\hp\\anaconda3\\lib\\site-packages (from pandas) (1.26.4)\n",
      "Requirement already satisfied: python-dateutil>=2.8.2 in c:\\users\\hp\\anaconda3\\lib\\site-packages (from pandas) (2.9.0.post0)\n",
      "Requirement already satisfied: pytz>=2020.1 in c:\\users\\hp\\anaconda3\\lib\\site-packages (from pandas) (2024.1)\n",
      "Requirement already satisfied: tzdata>=2022.7 in c:\\users\\hp\\anaconda3\\lib\\site-packages (from pandas) (2023.3)\n",
      "Requirement already satisfied: scipy>=1.6.0 in c:\\users\\hp\\anaconda3\\lib\\site-packages (from scikit-learn) (1.13.1)\n",
      "Requirement already satisfied: joblib>=1.2.0 in c:\\users\\hp\\anaconda3\\lib\\site-packages (from scikit-learn) (1.4.2)\n",
      "Requirement already satisfied: threadpoolctl>=2.0.0 in c:\\users\\hp\\anaconda3\\lib\\site-packages (from scikit-learn) (2.2.0)\n",
      "Requirement already satisfied: regex>=2021.8.3 in c:\\users\\hp\\anaconda3\\lib\\site-packages (from nltk) (2023.10.3)\n",
      "Requirement already satisfied: tqdm in c:\\users\\hp\\anaconda3\\lib\\site-packages (from nltk) (4.66.4)\n",
      "Requirement already satisfied: colorama in c:\\users\\hp\\anaconda3\\lib\\site-packages (from click>=8.1.3->flask) (0.4.6)\n",
      "Requirement already satisfied: MarkupSafe>=2.0 in c:\\users\\hp\\anaconda3\\lib\\site-packages (from Jinja2>=3.1.2->flask) (2.1.3)\n",
      "Requirement already satisfied: six>=1.5 in c:\\users\\hp\\anaconda3\\lib\\site-packages (from python-dateutil>=2.8.2->pandas) (1.16.0)\n"
     ]
    }
   ],
   "source": [
    "!pip install flask pandas scikit-learn nltk"
   ]
  },
  {
   "cell_type": "code",
   "execution_count": 2,
   "id": "a94cd717-2579-4f04-8738-5f90cf8978ec",
   "metadata": {},
   "outputs": [],
   "source": [
    "import os\n",
    "import re\n",
    "import pandas as pd\n",
    "import nltk\n",
    "from nltk.corpus import stopwords\n",
    "from nltk.tokenize import word_tokenize\n",
    "from sklearn.feature_extraction.text import TfidfVectorizer\n",
    "from sklearn.metrics.pairwise import cosine_similarity\n",
    "from flask import Flask, request, jsonify"
   ]
  },
  {
   "cell_type": "code",
   "execution_count": 3,
   "id": "6b38ded0-c704-461e-a141-d21398cf120f",
   "metadata": {},
   "outputs": [
    {
     "name": "stderr",
     "output_type": "stream",
     "text": [
      "[nltk_data] Downloading package punkt to\n",
      "[nltk_data]     C:\\Users\\Hp\\AppData\\Roaming\\nltk_data...\n",
      "[nltk_data]   Package punkt is already up-to-date!\n",
      "[nltk_data] Downloading package stopwords to\n",
      "[nltk_data]     C:\\Users\\Hp\\AppData\\Roaming\\nltk_data...\n",
      "[nltk_data]   Package stopwords is already up-to-date!\n"
     ]
    },
    {
     "data": {
      "text/plain": [
       "True"
      ]
     },
     "execution_count": 3,
     "metadata": {},
     "output_type": "execute_result"
    }
   ],
   "source": [
    "nltk.download(\"punkt\")\n",
    "nltk.download(\"stopwords\")\n"
   ]
  },
  {
   "cell_type": "code",
   "execution_count": 4,
   "id": "ba89c17e-7063-4f4a-8515-b4e6cee530bb",
   "metadata": {},
   "outputs": [
    {
     "name": "stdout",
     "output_type": "stream",
     "text": [
      "✅ Stopwords loaded successfully!\n"
     ]
    }
   ],
   "source": [
    "stop_words = set(stopwords.words(\"english\"))\n",
    "\n",
    "print(\"✅ Stopwords loaded successfully!\")"
   ]
  },
  {
   "cell_type": "code",
   "execution_count": 5,
   "id": "c5d7933a-0e17-4b89-b28c-4ad86814375f",
   "metadata": {},
   "outputs": [],
   "source": [
    "file_path = \"Resume.csv\"  # Update with your actual file path if needed\n",
    "df = pd.read_csv(file_path)"
   ]
  },
  {
   "cell_type": "code",
   "execution_count": 6,
   "id": "19046e86-3f0c-42c0-9499-c46a9b5513aa",
   "metadata": {},
   "outputs": [
    {
     "name": "stdout",
     "output_type": "stream",
     "text": [
      "✅ Dataset loaded successfully!\n"
     ]
    }
   ],
   "source": [
    "if \"Resume_str\" not in df.columns or \"Category\" not in df.columns:\n",
    "    raise ValueError(\"❌ Error: Dataset must contain 'Resume_str' and 'Category' columns!\")\n",
    "\n",
    "print(\"✅ Dataset loaded successfully!\")\n",
    "\n"
   ]
  },
  {
   "cell_type": "code",
   "execution_count": 7,
   "id": "0e70371d-9996-4f66-8f14-f0a1384c8133",
   "metadata": {},
   "outputs": [],
   "source": [
    "def clean_text(text):\n",
    "    \"\"\"\n",
    "    Function to clean text by removing numbers, special characters, stopwords, and short words.\n",
    "    \"\"\"\n",
    "    if not isinstance(text, str):  \n",
    "        return \"\"\n",
    "    \n",
    "    text = text.lower()\n",
    "    text = re.sub(r\"\\d+\", \"\", text)  # Remove numbers\n",
    "    text = re.sub(r\"[^\\w\\s]\", \"\", text)  # Remove special characters\n",
    "    text = re.sub(r\"\\s+\", \" \", text).strip()  # Normalize whitespace\n",
    "    \n",
    "    words = word_tokenize(text)\n",
    "    words = [word for word in words if word not in stop_words and len(word) > 2]  # Remove stopwords & short words\n",
    "\n",
    "    return \" \".join(words)\n"
   ]
  },
  {
   "cell_type": "code",
   "execution_count": 13,
   "id": "8553100a-bf73-4953-9702-a422d75e11d6",
   "metadata": {},
   "outputs": [],
   "source": [
    "def rank_resumes(job_description, df, category=None):\n",
    "    \"\"\"\n",
    "    Function to rank resumes based on a given job description using TF-IDF cosine similarity.\n",
    "    \"\"\"\n",
    "    if category:\n",
    "        df = df[df[\"Category\"].str.lower() == category.lower()].copy()\n",
    "\n",
    "    if df.empty:\n",
    "        print(\"❌ No resumes found for the given category!\")\n",
    "        return pd.DataFrame()\n",
    "    # Ensure no missing values in Resume_str column\n",
    "    df = df.dropna(subset=[\"Resume_str\"])\n",
    "\n",
    "    # Preprocess job description\n",
    "    job_description = clean_text(job_description)\n",
    "    \n",
    "    # Preprocess resumes\n",
    "    df[\"cleaned_resume\"] = df[\"Resume_str\"].apply(clean_text)\n",
    "    texts = [job_description] + df[\"cleaned_resume\"].tolist()\n",
    "    vectorizer = TfidfVectorizer(stop_words=\"english\")\n",
    "    tfidf_matrix = vectorizer.fit_transform(texts)\n",
    "\n",
    "    # Compute cosine similarity\n",
    "    similarities = cosine_similarity(tfidf_matrix[0:1], tfidf_matrix[1:]).flatten()\n",
    "    df[\"similarity\"] = similarities\n",
    "        # Sort resumes by highest similarity score\n",
    "    ranked_df = df.sort_values(by=\"similarity\", ascending=False)\n",
    "    \n",
    "    return ranked_df[[\"ID\", \"Resume_str\", \"Category\", \"similarity\"]]\n"
   ]
  },
  {
   "cell_type": "code",
   "execution_count": 15,
   "id": "cfdec7e7-85b9-4065-8459-7710d462dd6a",
   "metadata": {},
   "outputs": [
    {
     "name": "stdout",
     "output_type": "stream",
     "text": [
      "\n",
      "🎯 Top-ranked resumes:\n",
      "            ID                                         Resume_str  \\\n",
      "249  12635195      Objective    To obtain a position in the i...   \n",
      "238  25207620           INFORMATION TECHNOLOGY CERTIFIED TECH...   \n",
      "281  37242217           INFORMATION TECHNOLOGY CONSULTANT    ...   \n",
      "229  36434348           INFORMATION TECHNOLOGY MANAGER       ...   \n",
      "309  16186411           DATABASE PROGRAMMER/ANALYST (.NET DEV...   \n",
      "\n",
      "                   Category  similarity  \n",
      "249  INFORMATION-TECHNOLOGY    0.147876  \n",
      "238  INFORMATION-TECHNOLOGY    0.144633  \n",
      "281  INFORMATION-TECHNOLOGY    0.134053  \n",
      "229  INFORMATION-TECHNOLOGY    0.131113  \n",
      "309  INFORMATION-TECHNOLOGY    0.126709  \n"
     ]
    }
   ],
   "source": [
    "test_job_desc = \"Python developer with 5 years of experience in web development and data science.\"\n",
    "test_category = \"INFORMATION-TECHNOLOGY\"\n",
    "\n",
    "ranked_resumes = rank_resumes(test_job_desc, df, test_category)\n",
    "\n",
    "# Show top-ranked resumes\n",
    "print(\"\\n🎯 Top-ranked resumes:\\n\", ranked_resumes.head())"
   ]
  },
  {
   "cell_type": "code",
   "execution_count": 18,
   "id": "df173d8d-1cc7-4583-b844-2adbae5c3845",
   "metadata": {},
   "outputs": [
    {
     "name": "stdout",
     "output_type": "stream",
     "text": [
      "Flask API is running on http://127.0.0.1:5000\n",
      " * Serving Flask app '__main__'\n",
      " * Debug mode: off\n"
     ]
    },
    {
     "name": "stderr",
     "output_type": "stream",
     "text": [
      "WARNING: This is a development server. Do not use it in a production deployment. Use a production WSGI server instead.\n",
      " * Running on all addresses (0.0.0.0)\n",
      " * Running on http://127.0.0.1:5000\n",
      " * Running on http://192.168.100.17:5000\n",
      "Press CTRL+C to quit\n",
      "127.0.0.1 - - [22/Feb/2025 21:28:40] \"POST /rank HTTP/1.1\" 200 -\n"
     ]
    }
   ],
   "source": [
    "\n",
    "import threading\n",
    "app = Flask(__name__)\n",
    "\n",
    "@app.route(\"/rank\", methods=[\"POST\"])\n",
    "def rank():\n",
    "    data = request.json\n",
    "    job_description = data.get(\"job_description\", \"\")\n",
    "    category = data.get(\"category\", \"\")\n",
    "\n",
    "    if not job_description or not category:\n",
    "        return jsonify({\"error\": \"Both job_description and category are required\"}), 400\n",
    "\n",
    "    ranked_resumes = rank_resumes(job_description, df, category)\n",
    "    if ranked_resumes.empty:\n",
    "        return jsonify({\"message\": \"No matching resumes found\"}), 200\n",
    "\n",
    "    return jsonify(ranked_resumes.to_dict(orient=\"records\"))\n",
    "\n",
    "# Function to run Flask in a separate thread\n",
    "def run_flask():\n",
    "    app.run(host=\"0.0.0.0\", port=5000, debug=False, use_reloader=False)\n",
    "\n",
    "# Start Flask in the background\n",
    "flask_thread = threading.Thread(target=run_flask)\n",
    "flask_thread.start()\n",
    "\n",
    "print(\"Flask API is running on http://127.0.0.1:5000\")"
   ]
  },
  {
   "cell_type": "code",
   "execution_count": null,
   "id": "176b3f2c-5db2-430e-92c7-72e44bc75f39",
   "metadata": {},
   "outputs": [],
   "source": []
  }
 ],
 "metadata": {
  "kernelspec": {
   "display_name": "Python 3 (ipykernel)",
   "language": "python",
   "name": "python3"
  },
  "language_info": {
   "codemirror_mode": {
    "name": "ipython",
    "version": 3
   },
   "file_extension": ".py",
   "mimetype": "text/x-python",
   "name": "python",
   "nbconvert_exporter": "python",
   "pygments_lexer": "ipython3",
   "version": "3.12.4"
  }
 },
 "nbformat": 4,
 "nbformat_minor": 5
}
